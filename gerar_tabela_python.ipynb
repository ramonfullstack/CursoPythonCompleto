{
 "cells": [
  {
   "cell_type": "code",
   "execution_count": 9,
   "id": "e4a5601d",
   "metadata": {},
   "outputs": [
    {
     "data": {
      "text/plain": [
       "[{'nome': 'Ipad', 'preco': 12000, 'quantidade': 500},\n",
       " {'nome': 'Notebook', 'preco': 15000, 'quantidade': 1200},\n",
       " {'nome': 'Desktop PC', 'preco': 18000, 'quantidade': 300},\n",
       " {'nome': 'Airpod', 'preco': 25000, 'quantidade': 200},\n",
       " {'nome': 'Smartv', 'preco': 5000, 'quantidade': 300}]"
      ]
     },
     "metadata": {},
     "output_type": "display_data"
    }
   ],
   "source": [
    "produtos = [\n",
    "    {\"nome\": \"Ipad\", \"preco\": 12000, \"quantidade\": 500},\n",
    "    {\"nome\": \"Notebook\", \"preco\": 15000, \"quantidade\": 1200},\n",
    "    {\"nome\": \"Desktop PC\", \"preco\": 18000, \"quantidade\": 300},\n",
    "    {\"nome\": \"Airpod\", \"preco\": 25000, \"quantidade\": 200},\n",
    "    {\"nome\": \"Smartv\", \"preco\": 5000, \"quantidade\": 300},\n",
    "]\n",
    "\n",
    "display(produtos)"
   ]
  },
  {
   "cell_type": "code",
   "execution_count": 11,
   "id": "0df567d8",
   "metadata": {},
   "outputs": [
    {
     "data": {
      "text/html": [
       "<div>\n",
       "<style scoped>\n",
       "    .dataframe tbody tr th:only-of-type {\n",
       "        vertical-align: middle;\n",
       "    }\n",
       "\n",
       "    .dataframe tbody tr th {\n",
       "        vertical-align: top;\n",
       "    }\n",
       "\n",
       "    .dataframe thead th {\n",
       "        text-align: right;\n",
       "    }\n",
       "</style>\n",
       "<table border=\"1\" class=\"dataframe\">\n",
       "  <thead>\n",
       "    <tr style=\"text-align: right;\">\n",
       "      <th></th>\n",
       "      <th>nome</th>\n",
       "      <th>preco</th>\n",
       "      <th>quantidade</th>\n",
       "      <th>Faturamento</th>\n",
       "      <th>PercentualDesconto</th>\n",
       "    </tr>\n",
       "  </thead>\n",
       "  <tbody>\n",
       "    <tr>\n",
       "      <th>0</th>\n",
       "      <td>Ipad</td>\n",
       "      <td>12000</td>\n",
       "      <td>500</td>\n",
       "      <td>6000000</td>\n",
       "      <td>5</td>\n",
       "    </tr>\n",
       "    <tr>\n",
       "      <th>1</th>\n",
       "      <td>Notebook</td>\n",
       "      <td>15000</td>\n",
       "      <td>1200</td>\n",
       "      <td>18000000</td>\n",
       "      <td>5</td>\n",
       "    </tr>\n",
       "    <tr>\n",
       "      <th>2</th>\n",
       "      <td>Desktop PC</td>\n",
       "      <td>18000</td>\n",
       "      <td>300</td>\n",
       "      <td>5400000</td>\n",
       "      <td>5</td>\n",
       "    </tr>\n",
       "    <tr>\n",
       "      <th>3</th>\n",
       "      <td>Airpod</td>\n",
       "      <td>25000</td>\n",
       "      <td>200</td>\n",
       "      <td>5000000</td>\n",
       "      <td>5</td>\n",
       "    </tr>\n",
       "    <tr>\n",
       "      <th>4</th>\n",
       "      <td>Smartv</td>\n",
       "      <td>5000</td>\n",
       "      <td>300</td>\n",
       "      <td>1500000</td>\n",
       "      <td>5</td>\n",
       "    </tr>\n",
       "  </tbody>\n",
       "</table>\n",
       "</div>"
      ],
      "text/plain": [
       "         nome  preco  quantidade  Faturamento  PercentualDesconto\n",
       "0        Ipad  12000         500      6000000                   5\n",
       "1    Notebook  15000        1200     18000000                   5\n",
       "2  Desktop PC  18000         300      5400000                   5\n",
       "3      Airpod  25000         200      5000000                   5\n",
       "4      Smartv   5000         300      1500000                   5"
      ]
     },
     "metadata": {},
     "output_type": "display_data"
    }
   ],
   "source": [
    "import pandas as pd\n",
    "\n",
    "tabela = pd.DataFrame(produtos)\n",
    "tabela[\"Faturamento\"] = tabela[\"preco\"] * tabela[\"quantidade\"]\n",
    "tabela[\"PercentualDesconto\"] = 5\n",
    "display(tabela)"
   ]
  },
  {
   "cell_type": "code",
   "execution_count": null,
   "id": "d898e0e5",
   "metadata": {},
   "outputs": [],
   "source": []
  },
  {
   "cell_type": "code",
   "execution_count": null,
   "id": "d9f7e18b",
   "metadata": {},
   "outputs": [],
   "source": []
  },
  {
   "cell_type": "code",
   "execution_count": null,
   "id": "b942b241",
   "metadata": {},
   "outputs": [],
   "source": []
  },
  {
   "cell_type": "code",
   "execution_count": null,
   "id": "e493629c",
   "metadata": {},
   "outputs": [],
   "source": []
  }
 ],
 "metadata": {
  "kernelspec": {
   "display_name": "Python 3 (ipykernel)",
   "language": "python",
   "name": "python3"
  },
  "language_info": {
   "codemirror_mode": {
    "name": "ipython",
    "version": 3
   },
   "file_extension": ".py",
   "mimetype": "text/x-python",
   "name": "python",
   "nbconvert_exporter": "python",
   "pygments_lexer": "ipython3",
   "version": "3.9.13"
  }
 },
 "nbformat": 4,
 "nbformat_minor": 5
}
